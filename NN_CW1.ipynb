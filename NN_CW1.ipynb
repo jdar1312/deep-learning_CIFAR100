{
 "cells": [
  {
   "cell_type": "markdown",
   "metadata": {
    "id": "6Ew3Ws2UqWD8"
   },
   "source": [
    "# DSM150-2022-OCT CW1\n",
    "<i>student number: 210325986</i>\n",
    "\n",
    "---------\n"
   ]
  },
  {
   "cell_type": "markdown",
   "metadata": {
    "id": "qftF7fyzLqYZ"
   },
   "source": [
    "In this notebook I will be building, training, and evaluating a neural network on the CIFAR100 dataset, consisting of 60000 labelled images. The task is a single-label, multi-class classification problem. Following the rubric of the coursework, I will build a neural network using just dense and dropout layers, and test whether it performs better when compared to a baseline model. \n",
    "\n",
    "The notebook is divided into seven sections, corresponding to the machine learning workflow outlined in Chollet (2018)."
   ]
  },
  {
   "cell_type": "markdown",
   "metadata": {
    "id": "fmvu6GFFLAkl"
   },
   "source": [
    "### **<u>Step 1</u>: Defining Problem and Assembling Dataset**"
   ]
  },
  {
   "cell_type": "markdown",
   "metadata": {
    "id": "X4_8nt7P_M8s"
   },
   "source": [
    "The CIFAR100 dataset, from the Canadian Institute for Advanced Research, is a subset of the Tiny Images dataset and consists of 60000 32x32 color images. The images are grouped into 100 classes ('fine' label), and these classes are in turn grouped into 20 superclasses ('coarse' label). \n",
    "\n",
    "For the purposes of this coursework, I will be using the coarse labels, meaning that the dataset consists of 60000 images divided into 20 classes.\n",
    "\n",
    "The first step is to load the data and the required libraries."
   ]
  },
  {
   "cell_type": "code",
   "execution_count": 1,
   "metadata": {
    "id": "1X24ytneT-db"
   },
   "outputs": [],
   "source": [
    "#setting random seeds to ensure reproducable results\n",
    "from numpy.random import seed\n",
    "seed(10)\n",
    "import tensorflow\n",
    "tensorflow.random.set_seed(10)"
   ]
  },
  {
   "cell_type": "code",
   "execution_count": 2,
   "metadata": {
    "id": "RBRAoJZLIw-i"
   },
   "outputs": [],
   "source": [
    "#loading required libraries\n",
    "import numpy as np\n",
    "import matplotlib.pyplot as plt\n",
    "from tensorflow.keras.datasets import cifar100\n",
    "from tensorflow.keras.utils import to_categorical\n",
    "from tensorflow.keras import models, layers"
   ]
  },
  {
   "cell_type": "code",
   "execution_count": 3,
   "metadata": {
    "id": "qTBj-qxI1Eaw"
   },
   "outputs": [],
   "source": [
    "#load data\n",
    "data = cifar100.load_data(label_mode='coarse') #returns tuple of numpy arrays: (x_train, y_train), (x_test, y_test)"
   ]
  },
  {
   "cell_type": "code",
   "execution_count": 4,
   "metadata": {
    "id": "RCk2Mld0YNhy"
   },
   "outputs": [],
   "source": [
    "#dictionary of class labels (provided by dataset source)\n",
    "labels_dict = ({0: 'aquatic_mammals', 1: 'fish', 2: 'flowers', 3: 'food_containers', 4: 'fruit_and_vegetables', 5: 'household_electrical_devices', \n",
    "                6: 'household_furniture', 7: 'insects', 8: 'large_carnivores', 9: 'large_man-made_outdoor_things', 10: 'large_natural_outdoor_scenes',\n",
    "                11: 'large_omnivores_and_herbivores', 12: 'medium_mammals', 13: 'non-insect_invertebrates', 14: 'people', 15: 'reptiles', \n",
    "                16: 'small_mammals', 17: 'trees', 18: 'vehicles_1', 19: 'vehicles_2'} \n",
    ")"
   ]
  },
  {
   "cell_type": "markdown",
   "metadata": {
    "id": "LabJYQNoBwvd"
   },
   "source": [
    "The dataset is divided into 50000 training samples and 10000 testing samples. Each sample is a 32x32 RGB colour image, thus giving 3 channels (the depth dimension). Images can only have one label, making this a single-label, multi-class classification problem."
   ]
  },
  {
   "cell_type": "code",
   "execution_count": 5,
   "metadata": {
    "colab": {
     "base_uri": "https://localhost:8080/"
    },
    "id": "hFZ1ofm91La3",
    "outputId": "bf619978-2073-482e-d0a2-71a87dec9c1c"
   },
   "outputs": [
    {
     "name": "stdout",
     "output_type": "stream",
     "text": [
      "(50000, 32, 32, 3)\n",
      "(50000, 1)\n",
      "(10000, 32, 32, 3)\n",
      "(10000, 1)\n"
     ]
    }
   ],
   "source": [
    "(X_train, y_train), (X_test, y_test) = data\n",
    "\n",
    "print(X_train.shape)\n",
    "print(y_train.shape)\n",
    "print(X_test.shape)\n",
    "print(y_test.shape)"
   ]
  },
  {
   "cell_type": "markdown",
   "metadata": {
    "id": "srVzvDdiCOBm"
   },
   "source": [
    "Confirming (for the training set) that all classes contain the same amount of samples:"
   ]
  },
  {
   "cell_type": "code",
   "execution_count": 6,
   "metadata": {
    "colab": {
     "base_uri": "https://localhost:8080/"
    },
    "id": "EI24F3KRaays",
    "outputId": "d357056e-dfa4-4970-8434-14ce8e97ada7"
   },
   "outputs": [
    {
     "name": "stdout",
     "output_type": "stream",
     "text": [
      "0 (AQUATIC_MAMMALS):  2500\n",
      "1 (FISH):  2500\n",
      "2 (FLOWERS):  2500\n",
      "3 (FOOD_CONTAINERS):  2500\n",
      "4 (FRUIT_AND_VEGETABLES):  2500\n",
      "5 (HOUSEHOLD_ELECTRICAL_DEVICES):  2500\n",
      "6 (HOUSEHOLD_FURNITURE):  2500\n",
      "7 (INSECTS):  2500\n",
      "8 (LARGE_CARNIVORES):  2500\n",
      "9 (LARGE_MAN-MADE_OUTDOOR_THINGS):  2500\n",
      "10 (LARGE_NATURAL_OUTDOOR_SCENES):  2500\n",
      "11 (LARGE_OMNIVORES_AND_HERBIVORES):  2500\n",
      "12 (MEDIUM_MAMMALS):  2500\n",
      "13 (NON-INSECT_INVERTEBRATES):  2500\n",
      "14 (PEOPLE):  2500\n",
      "15 (REPTILES):  2500\n",
      "16 (SMALL_MAMMALS):  2500\n",
      "17 (TREES):  2500\n",
      "18 (VEHICLES_1):  2500\n",
      "19 (VEHICLES_2):  2500\n"
     ]
    }
   ],
   "source": [
    "#printing counts per class\n",
    "label_counts = dict(zip(*np.unique(y_train, return_counts=True)))\n",
    "for key, value in label_counts.items():\n",
    "      print(f'{key} ({labels_dict[key].upper()}):  {value}')"
   ]
  },
  {
   "cell_type": "markdown",
   "metadata": {
    "id": "-M4ydYsHLIht"
   },
   "source": [
    "### **<u>Step 2</u>: Defining a Measure of Success**"
   ]
  },
  {
   "cell_type": "markdown",
   "metadata": {
    "id": "mKonvIINCtid"
   },
   "source": [
    "It has been shown that the number of samples for each class is equal. Hence, the dataset is balanced. In this situation, an appropriate measure of success for the classifier output is accuracy. \n",
    "\n",
    "The accuracy metric measures the number of correct predictions (true negatives and true positives) as a proportion of total predictions:\n",
    "\n",
    "Accuracy = (TP + TN) / (TP + TN + FP + FN)"
   ]
  },
  {
   "cell_type": "markdown",
   "metadata": {
    "id": "y0mGTlKzLIZV"
   },
   "source": [
    "### **<u>Step 3</u>: Evaluation Protocol** "
   ]
  },
  {
   "cell_type": "markdown",
   "metadata": {
    "id": "LwQo_D-dD1aO"
   },
   "source": [
    "Neural networks can be tuned through several non-trainable hyperparameters. One of the more important ones is the number of epochs; i.e. the number of times the entire training set is passed through the model. The optimal number of epochs is not known beforehand; this requires the model to be trained and evaluated on different values for this hyperparameter in order to find the value that maximises performance (based on the chosen performance metric, accuracy). However, the test set cannot be used for this procedure, as this would lead to overfitting when evaluating the final model. This necessitates the need for an additional evaluation protocol for tuning the number of epochs\n",
    "(and possibly other hyperparameters). \n",
    "\n",
    "A common evaluation protocol for smaller datasets is k-fold cross validation. For each value of the hyperparameter being tuned, the training set will be split into k different folds, with the network trained on k-1 of the folds. The network performance will then be evaluated on the  remaining i'th fold, the validation set (i.e. the network's accuracy score on the validation set will be recorded). This process is repreated until all folds have been used once as the validation set. In this way, every training sample forms part of the validation set once, thereby reducing performance variation that can appear in small datasets. The final validation score will be the average accuracy accross all folds. This will be the performance of the network for the current value of the hyperparameter.\n",
    "\n",
    "The process is then repreated for all values of the hyperparameter being evaluated. The optimal number of epochs is the one that achieves the best average performance across the k folds."
   ]
  },
  {
   "cell_type": "markdown",
   "metadata": {
    "id": "rdUBvx_YKo0s"
   },
   "source": [
    "### **<u>Step 4</u>: Preparing the Data**"
   ]
  },
  {
   "cell_type": "markdown",
   "metadata": {
    "id": "XeU89O1_Hais"
   },
   "source": [
    "Data preparation (including feature extraction) is a critical step in the machine learning workflow, as the quality of the input data will greatly determine the network's performance.\n",
    "\n",
    "In order to prepare the CIFAR100 dataset for input into the neural network, the following pre-processing steps have been identified:\n",
    "\n",
    "1.   Vectorisation\n",
    "2.   Tensor Re-shaping\n",
    "3.   Scaling\n",
    "\n",
    "\n",
    "\n",
    "\n"
   ]
  },
  {
   "cell_type": "markdown",
   "metadata": {
    "id": "kn51BQDecI8R"
   },
   "source": [
    "The first step is to convert the categorical y labels into one-hot vectors, as machine learning models can only process numerical data:"
   ]
  },
  {
   "cell_type": "code",
   "execution_count": 7,
   "metadata": {
    "colab": {
     "base_uri": "https://localhost:8080/"
    },
    "id": "JYxz-96WH8cZ",
    "outputId": "70280781-7c62-4b6d-c0b6-adf62c35bb05"
   },
   "outputs": [
    {
     "data": {
      "text/plain": [
       "array([0., 0., 0., 0., 0., 0., 0., 0., 0., 0., 0., 1., 0., 0., 0., 0., 0.,\n",
       "       0., 0., 0.], dtype=float32)"
      ]
     },
     "execution_count": 7,
     "metadata": {},
     "output_type": "execute_result"
    }
   ],
   "source": [
    "#encoding categorical labels\n",
    "y_train = to_categorical(y_train)\n",
    "y_test = to_categorical(y_test)\n",
    "\n",
    "y_train[0] #check first observation"
   ]
  },
  {
   "cell_type": "markdown",
   "metadata": {
    "id": "luZrNP0OJmQa"
   },
   "source": [
    "The second step is tensor reshaping. The X feature vector currently has the shape (n, 32, 32, 3), as images have three dimensions (width, height, shape), with n being the number of samples. However, dense networks, as will be used in this coursework, require 2D tensors as input. Hence, the input tensors will be re-shaped to (n, 32x32x3) = (n, 3072). \n"
   ]
  },
  {
   "cell_type": "code",
   "execution_count": 8,
   "metadata": {
    "colab": {
     "base_uri": "https://localhost:8080/"
    },
    "id": "KQhbiXjnHkY-",
    "outputId": "53add2ea-2a16-45ab-d0e3-a9773c1d0d3b"
   },
   "outputs": [
    {
     "name": "stdout",
     "output_type": "stream",
     "text": [
      "X_train shape: (50000, 3072)\n",
      "X_test shape: (10000, 3072)\n"
     ]
    }
   ],
   "source": [
    "#reshape features into 2D tensors\n",
    "X_train = X_train.reshape((50000, 32*32*3)) \n",
    "X_test = X_test.reshape((10000, 32*32*3)) \n",
    "\n",
    "print('X_train shape:', X_train.shape)\n",
    "print('X_test shape:', X_test.shape)"
   ]
  },
  {
   "cell_type": "markdown",
   "metadata": {
    "id": "GHRBYu-yJyOM"
   },
   "source": [
    "The third step is scaling the data, since neural networks perform better when working with homogenous data (prevents large gradient updates). Networks also require the input data to be floating-point tensors.\n",
    "\n",
    "Hence, the X features are converted from bytes to floats and scaled to between [0,1] by dividing by 255 (the maximum byte value)."
   ]
  },
  {
   "cell_type": "code",
   "execution_count": 9,
   "metadata": {
    "id": "N4WPeWoJJy4G"
   },
   "outputs": [],
   "source": [
    "#converting to float and scaling\n",
    "X_train = X_train.astype('float32') / 255 \n",
    "X_test = X_test.astype('float32') / 255 "
   ]
  },
  {
   "cell_type": "markdown",
   "metadata": {
    "id": "BbEPKSKga1r5"
   },
   "source": [
    "### **<u>Step 5</u>: Choosing a Baseline**"
   ]
  },
  {
   "cell_type": "markdown",
   "metadata": {
    "id": "3udYLDtMeLKd"
   },
   "source": [
    "A baseline model is a simple model that acts as a reference to contextualize the results of the trained network.\n",
    "\n",
    "Since this is a single-label classification problem, a useful baseline model would be a random guesser. A random guesser assigns random class labels to each observation. The accuracy of such a model would be 1/c*100. Given that this problem contains c=20 classes, the accuracy of such a random guesser would be 5%. "
   ]
  },
  {
   "cell_type": "markdown",
   "metadata": {
    "id": "h2zNQlbMV3ci"
   },
   "source": [
    "### **<u>Step 6</u>: Network Design**"
   ]
  },
  {
   "cell_type": "markdown",
   "metadata": {
    "id": "AuLufewXgFIV"
   },
   "source": [
    "The next step is to design a neural network that is hoped to outperform the baseline on the chosen performance metric. Network design broadly involves three steps:\n",
    "\n",
    "\n",
    "\n",
    "1.   Topology - this refers to the way in which the network is connected. For the scope of this coursework, and in line with the rubric, the network will be sequential, formed of a stack of dense layers.\n",
    "2.   Capacity - this refers to the number of trainable paramters in the model, and is mainly determined by the number of layers and the number of hidden units per layer. Since this is a relatively small dataset, a too large capacity will likely cause overfitting. For this reason, the network will consist of only two hidden layers, the first with 512 hidden units and the second with 256 hidden units. The hidden layers will both use a relu activation, which is preferable in dense layers to tanh or sigmoid. The final output layer will use a softmax activation, outputting a vector of 20 class probabilities.\n",
    "3.   Compilation - this step will determine the learning process of the network. It involves the choice of optimiser and loss function. Since the loss function needs to be continouous and differentiable, the accuracy metric cannot be used as the loss function. Hence, the categorical cross-entropy will be used, common for multi-class, single-label classifications. The optimiser will be RMSprop, which is based on stochastic gradient descent. As explained above, the chosen performance metric will be the accuracy. \n",
    "\n"
   ]
  },
  {
   "cell_type": "code",
   "execution_count": 10,
   "metadata": {
    "id": "KNawR3iwfdrn"
   },
   "outputs": [],
   "source": [
    "#designing network\n",
    "def neural_network_v1():\n",
    "  '''\n",
    "  Defining a dense network with two hidden layers and categorical cross entropy loss function.\n",
    "  '''\n",
    "\n",
    "  #network architecture \n",
    "  network = models.Sequential() \n",
    "  network.add(layers.Dense(512, activation='relu', input_shape=(3072, ))) \n",
    "  network.add(layers.Dense(256, activation='relu')) \n",
    "  network.add(layers.Dense(20, activation='softmax'))\n",
    "\n",
    "  #compile network \n",
    "  network.compile(optimizer='rmsprop', \n",
    "                loss='categorical_crossentropy', \n",
    "                metrics=['accuracy'])\n",
    "  \n",
    "  return network"
   ]
  },
  {
   "cell_type": "markdown",
   "metadata": {
    "id": "EQAfykUAj2oV"
   },
   "source": [
    "The first layer of the network will have (512x3027) weight parameters and 512 bias parameters, for a total of 1,573,376 trainable parameters. \n",
    "\n",
    "The hidden units in the second layer are connected to each of the first layer's units, thus giving (512x256) weight parameters and 256 bias parameters, for a total of 131,328 trainable parameters. Likewise, the final layer will have (256x20) weight parameters and 20 bias parameters, for a total of 5,140.\n",
    "\n",
    "The total number of trainable parameters in the model is thus 1,709,844.\n",
    "\n"
   ]
  },
  {
   "cell_type": "code",
   "execution_count": 11,
   "metadata": {
    "colab": {
     "base_uri": "https://localhost:8080/"
    },
    "id": "XTyd8AWsjR8F",
    "outputId": "bcb304e3-4b2d-4bed-8a92-8ae8cf5a0084"
   },
   "outputs": [
    {
     "name": "stdout",
     "output_type": "stream",
     "text": [
      "Model: \"sequential\"\n",
      "_________________________________________________________________\n",
      " Layer (type)                Output Shape              Param #   \n",
      "=================================================================\n",
      " dense (Dense)               (None, 512)               1573376   \n",
      "                                                                 \n",
      " dense_1 (Dense)             (None, 256)               131328    \n",
      "                                                                 \n",
      " dense_2 (Dense)             (None, 20)                5140      \n",
      "                                                                 \n",
      "=================================================================\n",
      "Total params: 1,709,844\n",
      "Trainable params: 1,709,844\n",
      "Non-trainable params: 0\n",
      "_________________________________________________________________\n"
     ]
    }
   ],
   "source": [
    "neural_network_v1().summary()"
   ]
  },
  {
   "cell_type": "markdown",
   "metadata": {
    "id": "tWNtLSppksWG"
   },
   "source": [
    "### **<u>Step 7</u>: Tuning & Optimisation**"
   ]
  },
  {
   "cell_type": "markdown",
   "metadata": {
    "id": "qWD3b80FlGXG"
   },
   "source": [
    "The final step in the workflow is to tune the designed model and evaluate it against the baseline, optimising where possible.\n"
   ]
  },
  {
   "cell_type": "markdown",
   "metadata": {
    "id": "70_gYNQnlSzV"
   },
   "source": [
    "##### **7.1 Validation & Tuning**"
   ]
  },
  {
   "cell_type": "markdown",
   "metadata": {
    "id": "z-WEE3ellcsm"
   },
   "source": [
    "The below code implements the validation procedure for the designed network. The aim is to tune the 'epochs' hyperparameter. The code uses k=5 folds for the cross validation, and tests for up to 25 epochs."
   ]
  },
  {
   "cell_type": "code",
   "execution_count": 12,
   "metadata": {
    "colab": {
     "base_uri": "https://localhost:8080/"
    },
    "id": "aMkCOhNNV23w",
    "outputId": "0c229a5c-d3d5-48b8-ca9f-b8399c341b2a"
   },
   "outputs": [
    {
     "name": "stdout",
     "output_type": "stream",
     "text": [
      "processing fold 0\n",
      "processing fold 1\n",
      "processing fold 2\n",
      "processing fold 3\n",
      "processing fold 4\n"
     ]
    }
   ],
   "source": [
    "#implementing k fold cross validation\n",
    "\n",
    "#setting variables\n",
    "k = 5 #number of folds\n",
    "n_valid = len(X_train)//k #number of observations in validation set\n",
    "valid_epochs = 25 #number of epochs to test in validation phase\n",
    "training_metrics = []\n",
    "valid_metrics = []\n",
    "\n",
    "#iterating per fold\n",
    "for i in range(k): #i from 0 to 4\n",
    "    print('processing fold', i)\n",
    "    \n",
    "    #set aside validation partition for current fold\n",
    "    lower_bound = i * n_valid\n",
    "    upper_bound = (i + 1) * n_valid\n",
    "    valid_features = X_train[lower_bound:upper_bound]\n",
    "    valid_labels = y_train[lower_bound:upper_bound]\n",
    "    \n",
    "    #remaining data used for training in current fold\n",
    "    train_features = np.concatenate([X_train[:lower_bound], X_train[upper_bound:]], axis=0)\n",
    "    train_labels = np.concatenate([y_train[:lower_bound], y_train[upper_bound:]], axis=0)\n",
    "\n",
    "    #build and train model\n",
    "    valid_network = neural_network_v1()\n",
    "    \n",
    "    training = valid_network.fit(train_features, train_labels,\n",
    "                        validation_data=(valid_features, valid_labels),\n",
    "                        epochs=valid_epochs, batch_size=128, verbose=0)\n",
    "\n",
    "    #storing scores using the 'history' object generated by the .fit() method\n",
    "    training_metrics.append(training.history['loss'])\n",
    "    valid_metrics.append(training.history['val_loss'])"
   ]
  },
  {
   "cell_type": "markdown",
   "metadata": {
    "id": "n-QDkLlYofft"
   },
   "source": [
    "The .history object returns a dictionary containing the training and validation metrics. For each of the k folds, each metric contains a list of the model performance across each of the 25 epochs. Choosing the optimal epoch can be done by visualising the training loss against the validation loss (how well the model performs on unseen data) - this can also be done by visualising the  training and validation accuracies."
   ]
  },
  {
   "cell_type": "code",
   "execution_count": 13,
   "metadata": {
    "colab": {
     "base_uri": "https://localhost:8080/"
    },
    "id": "REtwRavhnhdN",
    "outputId": "ed29d995-d8c3-4c4e-a8aa-13735d24d3cd"
   },
   "outputs": [
    {
     "name": "stdout",
     "output_type": "stream",
     "text": [
      "History metrics: ['loss', 'accuracy', 'val_loss', 'val_accuracy']\n",
      "Number of folds: 5\n",
      "Number of epochs: 25\n"
     ]
    }
   ],
   "source": [
    "print(f'History metrics: {list(training.history.keys())}')\n",
    "print(f'Number of folds: {len(training_metrics)}')\n",
    "print(f'Number of epochs: {len(training_metrics[0])}') #length of first fold scores list"
   ]
  },
  {
   "cell_type": "markdown",
   "metadata": {
    "id": "CvxvAKI-msmc"
   },
   "source": [
    "Viewing the validation results (after performing exponential smoothing):"
   ]
  },
  {
   "cell_type": "code",
   "execution_count": 14,
   "metadata": {
    "id": "5MJDY9hBMmaA"
   },
   "outputs": [],
   "source": [
    "#define exponential moving average smoothing function\n",
    "def smooth_curve(points, factor = 0.75):\n",
    "  '''\n",
    "  Function to perform exponential smoothing on a list of values.\n",
    "  '''\n",
    "  smoothed_points = []\n",
    "  for point in points:\n",
    "      if smoothed_points: \n",
    "          previous = smoothed_points[-1] #use previous point to smooth current point\n",
    "          smoothed_points.append(previous * factor + point * (1 - factor))\n",
    "      else:\n",
    "          smoothed_points.append(point)\n",
    "  return smoothed_points"
   ]
  },
  {
   "cell_type": "code",
   "execution_count": 15,
   "metadata": {
    "colab": {
     "base_uri": "https://localhost:8080/",
     "height": 279
    },
    "id": "MrKXGo9KmZXg",
    "outputId": "847598b0-7b17-4e26-dd36-0559b9a841b8"
   },
   "outputs": [
    {
     "data": {
      "image/png": "[encoded data removed]",
      "text/plain": [
       "<Figure size 432x288 with 1 Axes>"
      ]
     },
     "metadata": {
      "needs_background": "light"
     },
     "output_type": "display_data"
    }
   ],
   "source": [
    "#plotting validation and training losses to identify optimal number of epochs\n",
    "\n",
    "#average the loss for each epoch accross folds\n",
    "mean_training_loss = [np.mean([x[i] for x in training_metrics]) for i in range(valid_epochs)]\n",
    "mean_valid_loss = [np.mean([x[i] for x in valid_metrics]) for i in range(valid_epochs)]\n",
    "\n",
    "#smoothen the validation loss\n",
    "smooth_valid_loss = smooth_curve(mean_valid_loss)\n",
    "\n",
    "#plotting\n",
    "plt.plot(range(1, valid_epochs + 1), mean_training_loss, label = 'Training')\n",
    "plt.plot(range(1, valid_epochs + 1), smooth_valid_loss, label = 'Validation')\n",
    "plt.xlabel('Epochs')\n",
    "plt.ylabel('Loss')\n",
    "plt.legend()\n",
    "plt.show()\n"
   ]
  },
  {
   "cell_type": "markdown",
   "metadata": {
    "id": "UNHI5ZSuqDmu"
   },
   "source": [
    "From the above chart, it is clear that while training loss falls as epochs increase, the validation loss falls rapidly at first but stalls at around 12 epochs. This is an indication that the network starts to overfit. Hence, the optimal number of epochs appears to be 12."
   ]
  },
  {
   "cell_type": "markdown",
   "metadata": {
    "id": "ouQDwGpuqgzU"
   },
   "source": [
    "##### **7.2 Optimising & Evaluating**"
   ]
  },
  {
   "cell_type": "markdown",
   "metadata": {
    "id": "6G33aiBDqh9u"
   },
   "source": [
    "Now that the optimal number of epochs has been identified, the network can be trained on the full training set and evaluated on the previously unseen test set:"
   ]
  },
  {
   "cell_type": "code",
   "execution_count": 16,
   "metadata": {
    "id": "0XAXz_5OK1BJ"
   },
   "outputs": [],
   "source": [
    "opt_epochs = 12\n",
    "\n",
    "#train on full training set using optimal number of epochs\n",
    "full_network_v1 = neural_network_v1()\n",
    "full_training_v1 = full_network_v1.fit(X_train, y_train, epochs=opt_epochs, batch_size=128, verbose=0)\n"
   ]
  },
  {
   "cell_type": "markdown",
   "metadata": {
    "id": "Skh8tvSHri48"
   },
   "source": [
    "The .evaluate() method provides the loss and accuracy metric for the tested network. As can be seen, the resulting accuracy is much higher than the 5% achieved by the baseline model, standing at 30%."
   ]
  },
  {
   "cell_type": "code",
   "execution_count": 17,
   "metadata": {
    "colab": {
     "base_uri": "https://localhost:8080/"
    },
    "id": "QRnlyFR9QjTI",
    "outputId": "de91c6de-8c57-4586-9760-95ad819097cb"
   },
   "outputs": [
    {
     "name": "stdout",
     "output_type": "stream",
     "text": [
      "313/313 [==============================] - 1s 3ms/step - loss: 2.3094 - accuracy: 0.3041\n"
     ]
    },
    {
     "data": {
      "text/plain": [
       "[2.309396505355835, 0.30410000681877136]"
      ]
     },
     "execution_count": 17,
     "metadata": {},
     "output_type": "execute_result"
    }
   ],
   "source": [
    "#evaluate on test set\n",
    "full_network_v1.evaluate(X_test, y_test)"
   ]
  },
  {
   "cell_type": "markdown",
   "metadata": {
    "id": "VD5ou7n1r3e-"
   },
   "source": [
    "There are several ways in which the network can be optimised further. Options include adding network capacity, regularisation, or dropout. For the purposes of this coursework, dropout layers will be added after each hidden layer, to test if network performance improves. Dropout randomly drops out a number of output features from a layer during training, which can help break up insignificant noise patterns in the data that might cause overfitting.\n"
   ]
  },
  {
   "cell_type": "code",
   "execution_count": 18,
   "metadata": {
    "id": "Jj06QEZ2sVZr"
   },
   "outputs": [],
   "source": [
    "#define network with dropout layers\n",
    "def neural_network_dropout(dr_rate):\n",
    "  '''\n",
    "  Defining a dense network with two hidden layers, two dropout layers, and categorical cross entropy loss function.\n",
    "  '''\n",
    "\n",
    "  #network architecture \n",
    "  network = models.Sequential() \n",
    "  network.add(layers.Dense(512, activation='relu', input_shape=(3072, ))) \n",
    "  network.add(layers.Dropout(dr_rate, seed = 10)) #seed to ensure randomisation is same with every code run\n",
    "  network.add(layers.Dense(256, activation='relu')) \n",
    "  network.add(layers.Dropout(dr_rate, seed = 10))\n",
    "  network.add(layers.Dense(20, activation='softmax'))\n",
    "\n",
    "  #compile network \n",
    "  network.compile(optimizer='rmsprop', \n",
    "                loss='categorical_crossentropy', \n",
    "                metrics=['accuracy'])\n",
    "  \n",
    "  return network\n"
   ]
  },
  {
   "cell_type": "code",
   "execution_count": 19,
   "metadata": {
    "colab": {
     "base_uri": "https://localhost:8080/"
    },
    "id": "dBMdGYWgUoZR",
    "outputId": "1de64181-9600-4370-e50e-ae6c4cc0a5fb"
   },
   "outputs": [
    {
     "name": "stdout",
     "output_type": "stream",
     "text": [
      "313/313 [==============================] - 1s 4ms/step - loss: 2.3353 - accuracy: 0.2848\n",
      "313/313 [==============================] - 1s 2ms/step - loss: 2.6070 - accuracy: 0.2012\n",
      "313/313 [==============================] - 1s 3ms/step - loss: 2.9143 - accuracy: 0.0776\n"
     ]
    }
   ],
   "source": [
    "#train and evaluate using optimal number of epochs for different dropout rates\n",
    "dropout_scores = {}\n",
    "dropout_vals = [0.25, 0.5, 0.75]\n",
    "for d in dropout_vals:\n",
    "  network_dr = neural_network_dropout(d)\n",
    "  training_dr = network_dr.fit(X_train, y_train, epochs=opt_epochs, batch_size=128, verbose=0)\n",
    "  acc = network_dr.evaluate(X_test, y_test)[-1] #returns list of loss, accuracy - only retain accuracy\n",
    "  dropout_scores[d] = acc #save scores"
   ]
  },
  {
   "cell_type": "markdown",
   "metadata": {
    "id": "FHYsPtNut6L1"
   },
   "source": [
    "Evaluating on the unseen test set, it can be observed that adding the dropout layers does not lead to any improvement in the network's performance in this case. The best accuracy is 28% with a dropout value of 25% - higher dropout leads to worse performance. One reason could be that the dropout causes the network to lose vital information from the input data. Removing one of the dropout layers, could improve performance."
   ]
  },
  {
   "cell_type": "code",
   "execution_count": 21,
   "metadata": {
    "colab": {
     "base_uri": "https://localhost:8080/"
    },
    "id": "L-J8fNjTWDMH",
    "outputId": "05071534-3d4c-46ba-cd77-27cb6d2a94b4"
   },
   "outputs": [
    {
     "data": {
      "text/plain": [
       "{0.25: 0.2847999930381775, 0.5: 0.2011999934911728, 0.75: 0.07760000228881836}"
      ]
     },
     "execution_count": 21,
     "metadata": {},
     "output_type": "execute_result"
    }
   ],
   "source": [
    "#viewing accuracy scores for different dropout rates\n",
    "dropout_scores"
   ]
  },
  {
   "cell_type": "markdown",
   "metadata": {
    "id": "MwZZ4xt_uqbm"
   },
   "source": [
    "### **<u>Concluding Remarks</u>**\n",
    "\n",
    "In this coursework I attempted to fit and evaluate a neural network onto the CIFAR100 dataset. The task was a single-label, multi-class classification of images split into 20 different classes. In line with the coursework rubric, the neural network consisted of a sequential stack of two hidden dense layers and one output layer. k-fold cross validation was used to tune the network and select the optimal number of epochs. \n",
    "\n",
    "The results suggest that the network outperformed a random guesser, chosen as the baseline. An attempt to further improve the model using dropout layers was not successful.\n",
    "\n",
    "Of course, this is just a simple exercise and many improvements could be made. Firstly, the task of image classification would generally require the use of convolutional layers, rather than dense layers. Secondly, attempts could be made to tune other hyperparameters of the model, such as the learning rate. Thirdly, there are several other options that could be used to further improve the network, such as tuning the dropout rate, regularisation, and increasing network capacity.\n"
   ]
  },
  {
   "cell_type": "markdown",
   "metadata": {
    "id": "jctP0K3-sQO-"
   },
   "source": [
    "### **<u>References</u>**\n",
    "\n",
    "#### **Websites**\n",
    "https://www.cs.toronto.edu/~kriz/cifar.html\n",
    "\n",
    "https://paperswithcode.com/dataset/cifar-100\n",
    "\n",
    "https://towardsdatascience.com/ultimate-guide-to-input-shape-and-model-complexity-in-neural-networks-ae665c728f4b\n",
    "\n",
    "https://towardsdatascience.com/cifar-10-image-classification-in-tensorflow-5b501f7dc77c\n",
    "\n",
    "https://github.com/deep-diver/CIFAR10-img-classification-tensorflow/blob/master/CIFAR10_image_classification.py\n",
    "\n",
    "#### **Other Material**\n",
    "Chollet, F (2018). *Deep Learning with Python*. Manning Publications Co. ISBN 9781617294433\n",
    "\n",
    "Neural Networks (DSM150-2022-OCT) - lectures & notebooks. University of London."
   ]
  }
 ],
 "metadata": {
  "colab": {
   "provenance": []
  },
  "gpuClass": "standard",
  "kernelspec": {
   "display_name": "Python 3",
   "language": "python",
   "name": "python3"
  },
  "language_info": {
   "codemirror_mode": {
    "name": "ipython",
    "version": 3
   },
   "file_extension": ".py",
   "mimetype": "text/x-python",
   "name": "python",
   "nbconvert_exporter": "python",
   "pygments_lexer": "ipython3",
   "version": "3.8.5"
  },
  "varInspector": {
   "cols": {
    "lenName": 16,
    "lenType": 16,
    "lenVar": 40
   },
   "kernels_config": {
    "python": {
     "delete_cmd_postfix": "",
     "delete_cmd_prefix": "del ",
     "library": "var_list.py",
     "varRefreshCmd": "print(var_dic_list())"
    },
    "r": {
     "delete_cmd_postfix": ") ",
     "delete_cmd_prefix": "rm(",
     "library": "var_list.r",
     "varRefreshCmd": "cat(var_dic_list()) "
    }
   },
   "types_to_exclude": [
    "module",
    "function",
    "builtin_function_or_method",
    "instance",
    "_Feature"
   ],
   "window_display": false
  }
 },
 "nbformat": 4,
 "nbformat_minor": 1
}
